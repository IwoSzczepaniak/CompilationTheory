{
 "cells": [
  {
   "cell_type": "code",
   "execution_count": 1,
   "metadata": {},
   "outputs": [],
   "source": [
    "import sys\n",
    "sys.path.append('c:/Users/iwosz/PythonProjects/CompilationTheory/') "
   ]
  },
  {
   "cell_type": "code",
   "execution_count": 2,
   "metadata": {},
   "outputs": [
    {
     "name": "stderr",
     "output_type": "stream",
     "text": [
      "WARNING: 1 reduce/reduce conflict\n"
     ]
    }
   ],
   "source": [
    "from lab3.MyParserAST import ParserMatrixAST\n",
    "from lab3.AST import *\n",
    "from lab1.MyLexer import MyLexer as Scanner\n",
    "from lab3.TreePrinter import TreePrinter\n",
    "from lab4.TypeChecker import TypeChecker\n",
    "from lab5.visit import *\n",
    "from lab5.Interpreter import Interpreter"
   ]
  },
  {
   "cell_type": "markdown",
   "metadata": {},
   "source": [
    "Basic tests"
   ]
  },
  {
   "cell_type": "code",
   "execution_count": 3,
   "metadata": {},
   "outputs": [
    {
     "name": "stdout",
     "output_type": "stream",
     "text": [
      "A\n",
      "|\t=\n",
      "|\t|\teye\n",
      "|\t|\t|\t5\n",
      "B\n",
      "|\t=\n",
      "|\t|\tones\n",
      "|\t|\t|\t5\n",
      "D\n",
      "|\t=\n",
      "|\t|\tA\n",
      "|\t|\t|\t.+\n",
      "|\t|\t|\t|\tB\n",
      "x\n",
      "|\t=\n",
      "|\t|\tVECTOR\n",
      "|\t|\t|\t1\n",
      "|\t|\t|\t2\n",
      "|\t|\t|\t3\n",
      "|\t|\t|\t4\n",
      "|\t|\t|\t5\n",
      "b\n",
      "|\t=\n",
      "|\t|\tzeros\n",
      "|\t|\t|\t5\n",
      "|\t|\t|\t5\n",
      "FOR\n",
      "|\tj\n",
      "|\tRANGE\n",
      "|\t|\t0\n",
      "|\t|\t4\n",
      "|\tPRINT\n",
      "|\t|\tj\n",
      "PRINT\n",
      "|\tD\n",
      "Symbol \"D\" not found, Scope: global {'A': 'vector', 'B': 'vector', 'x': 'vector', 'b': 'vector'}\n",
      "Type checking errors:  None\n",
      "0\n",
      "1\n",
      "2\n",
      "3\n",
      "4\n",
      "[2, 2, 2, 2, 2]\n"
     ]
    }
   ],
   "source": [
    "text ='''A = eye(5); # create 5x5 matrix filled with zeros\n",
    "B = ones(5);  # create 5x5 matrix filled with ones\n",
    "D = A.+B;   # add element-wise A with transpose of B\n",
    "x = [1,2,3,4,5]; # create vector x\n",
    "b = zeros(5,5);\n",
    "for j = 0:4 \n",
    "    print j;\n",
    "print D;\n",
    "'''\n",
    "par = ParserMatrixAST()\n",
    "ast = par.parse(Scanner().tokenize(text))\n",
    "treePrinter = TreePrinter()\n",
    "typeChecker = TypeChecker()\n",
    "\n",
    "if ast is not None:\n",
    "    ast.printTree(0)\n",
    "    print(\"Type checking errors: \", typeChecker.visit(ast))\n",
    "    interpreter = Interpreter()\n",
    "    interpreter.visit(ast)"
   ]
  },
  {
   "cell_type": "markdown",
   "metadata": {},
   "source": [
    "Tests from files"
   ]
  },
  {
   "cell_type": "code",
   "execution_count": 4,
   "metadata": {},
   "outputs": [],
   "source": [
    "test_nums = [i for i in range(1,7)]\n",
    "print(test_nums)\n"
   ]
  },
  {
   "cell_type": "code",
   "execution_count": 5,
   "metadata": {},
   "outputs": [],
   "source": [
    "def print_data_with_line_nrs(data):\n",
    "    for i, line in enumerate(data.split('\\n')):\n",
    "        print('{:>3}: {}'.format(i+1, line))"
   ]
  },
  {
   "cell_type": "code",
   "execution_count": 6,
   "metadata": {},
   "outputs": [
    {
     "name": "stdout",
     "output_type": "stream",
     "text": [
      "Test nr 2:\n",
      "  1: A = eye(3);\n",
      "  2: B = ones(3);\n",
      "  3: C = zeros(3);\n",
      "  4: C = A .+ B;\n",
      "  5: print C;\n",
      "  6: D = zeros(3, 4);\n",
      "  7: D[0, 0] = 42;\n",
      "  8: D[1, 2] = 7;\n",
      "  9: print D;\n",
      " 10: print D[2, 2];\n",
      " 11: \n",
      "AST tree is: \n",
      "A\n",
      "|\t=\n",
      "|\t|\teye\n",
      "|\t|\t|\t3\n",
      "B\n",
      "|\t=\n",
      "|\t|\tones\n",
      "|\t|\t|\t3\n",
      "C\n",
      "|\t=\n",
      "|\t|\tzeros\n",
      "|\t|\t|\t3\n",
      "C\n",
      "|\t=\n",
      "|\t|\tA\n",
      "|\t|\t|\t.+\n",
      "|\t|\t|\t|\tB\n",
      "PRINT\n",
      "|\tC\n",
      "D\n",
      "|\t=\n",
      "|\t|\tzeros\n",
      "|\t|\t|\t3\n",
      "|\t|\t|\t4\n",
      "REF\n",
      "|\tD\n",
      "|\t0\n",
      "|\t0\n",
      "|\t=\n",
      "|\t|\t42\n",
      "REF\n",
      "|\tD\n",
      "|\t1\n",
      "|\t2\n",
      "|\t=\n",
      "|\t|\t7\n",
      "PRINT\n",
      "|\tD\n",
      "PRINT\n",
      "|\tREF\n",
      "|\t|\tD\n",
      "|\t|\t2\n",
      "|\t|\t2\n",
      "Type checking errors: None\n",
      "Interpreter: \n",
      "[2, 2, 2]\n",
      "[[42, 0, 0], [0, 0, 0], [0, 7, 0], [0, 0, 0]]\n",
      "7\n",
      "\n",
      "\n"
     ]
    }
   ],
   "source": [
    "for n in test_nums:\n",
    "    print(f\"Test nr {n}:\")\n",
    "    filename = f\"tests/test{n}.m\"\n",
    "    with open(filename, 'r') as f:\n",
    "        data = f.read()\n",
    "\n",
    "    print_data_with_line_nrs(data)\n",
    "    parser = ParserMatrixAST()\n",
    "    ast = parser.parse(Scanner().tokenize(data))\n",
    "    print(\"AST tree is: \")\n",
    "    ast.printTree(0)\n",
    "    typeChecker = TypeChecker()\n",
    "    print(f\"Type checking errors: {typeChecker.visit(ast)}\")\n",
    "    \n",
    "    print(\"Interpreter: \")\n",
    "    interpreter = Interpreter()\n",
    "    interpreter.visit(ast)\n",
    "    print(\"\\n\")"
   ]
  }
 ],
 "metadata": {
  "kernelspec": {
   "display_name": "base",
   "language": "python",
   "name": "python3"
  },
  "language_info": {
   "codemirror_mode": {
    "name": "ipython",
    "version": 3
   },
   "file_extension": ".py",
   "mimetype": "text/x-python",
   "name": "python",
   "nbconvert_exporter": "python",
   "pygments_lexer": "ipython3",
   "version": "3.9.12"
  }
 },
 "nbformat": 4,
 "nbformat_minor": 2
}
