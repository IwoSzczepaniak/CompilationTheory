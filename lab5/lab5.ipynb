{
 "cells": [
  {
   "cell_type": "code",
   "execution_count": 1,
   "metadata": {},
   "outputs": [],
   "source": [
    "import sys\n",
    "sys.path.append('c:/Users/iwosz/PythonProjects/CompilationTheory/') "
   ]
  },
  {
   "cell_type": "code",
   "execution_count": 2,
   "metadata": {},
   "outputs": [],
   "source": [
    "from lab3.MyParserAST import ParserMatrixAST\n",
    "from lab3.AST import *\n",
    "from lab1.MyLexer import MyLexer as Scanner\n",
    "from lab3.TreePrinter import TreePrinter\n",
    "from lab4.TypeChecker import TypeChecker\n",
    "from lab5.visit import *\n",
    "from lab5.Interpreter import Interpreter"
   ]
  },
  {
   "cell_type": "markdown",
   "metadata": {},
   "source": [
    "Basic tests"
   ]
  },
  {
   "cell_type": "code",
   "execution_count": 3,
   "metadata": {},
   "outputs": [
    {
     "name": "stdout",
     "output_type": "stream",
     "text": [
      "A\n",
      "|\t=\n",
      "|\t|\tzeros\n",
      "|\t|\t|\t5\n",
      "B\n",
      "|\t=\n",
      "|\t|\tones\n",
      "|\t|\t|\t5\n",
      "D\n",
      "|\t=\n",
      "|\t|\tTRANSPOSE\n",
      "|\t|\t|\tA\n",
      "|\t|\t|\t.+\n",
      "|\t|\t|\t|\tB\n",
      "x\n",
      "|\t=\n",
      "|\t|\tVECTOR\n",
      "|\t|\t|\t1\n",
      "|\t|\t|\t2\n",
      "|\t|\t|\t3\n",
      "|\t|\t|\t4\n",
      "|\t|\t|\t5\n",
      "a\n",
      "|\t=\n",
      "|\t|\tREF\n",
      "|\t|\t|\tx\n",
      "|\t|\t|\t1\n",
      "|\t|\t|\t|\t+\n",
      "|\t|\t|\t|\t|\t1\n",
      "b\n",
      "|\t=\n",
      "|\t|\tzeros\n",
      "|\t|\t|\t5\n",
      "|\t|\t|\t5\n",
      "FOR\n",
      "|\tj\n",
      "|\tRANGE\n",
      "|\t|\t0\n",
      "|\t|\t4\n",
      "|\tPRINT\n",
      "|\t|\ta\n",
      "PRINT\n",
      "|\tREF\n",
      "|\t|\tb\n",
      "|\t|\t1\n",
      "|\t|\t1\n"
     ]
    },
    {
     "ename": "TypeError",
     "evalue": "'>=' not supported between instances of 'BinaryExpression' and 'int'",
     "output_type": "error",
     "traceback": [
      "\u001b[1;31m---------------------------------------------------------------------------\u001b[0m",
      "\u001b[1;31mTypeError\u001b[0m                                 Traceback (most recent call last)",
      "\u001b[1;32mc:\\Users\\iwosz\\PythonProjects\\CompilationTheory\\lab5\\lab5.ipynb Cell 4\u001b[0m line \u001b[0;36m<cell line: 16>\u001b[1;34m()\u001b[0m\n\u001b[0;32m     <a href='vscode-notebook-cell:/c%3A/Users/iwosz/PythonProjects/CompilationTheory/lab5/lab5.ipynb#X15sZmlsZQ%3D%3D?line=15'>16</a>\u001b[0m \u001b[39mif\u001b[39;00m ast \u001b[39mis\u001b[39;00m \u001b[39mnot\u001b[39;00m \u001b[39mNone\u001b[39;00m:\n\u001b[0;32m     <a href='vscode-notebook-cell:/c%3A/Users/iwosz/PythonProjects/CompilationTheory/lab5/lab5.ipynb#X15sZmlsZQ%3D%3D?line=16'>17</a>\u001b[0m     ast\u001b[39m.\u001b[39mprintTree(\u001b[39m0\u001b[39m)\n\u001b[1;32m---> <a href='vscode-notebook-cell:/c%3A/Users/iwosz/PythonProjects/CompilationTheory/lab5/lab5.ipynb#X15sZmlsZQ%3D%3D?line=17'>18</a>\u001b[0m     \u001b[39mprint\u001b[39m(\u001b[39m\"\u001b[39m\u001b[39mType checking errors: \u001b[39m\u001b[39m\"\u001b[39m, typeChecker\u001b[39m.\u001b[39;49mvisit(ast))\n\u001b[0;32m     <a href='vscode-notebook-cell:/c%3A/Users/iwosz/PythonProjects/CompilationTheory/lab5/lab5.ipynb#X15sZmlsZQ%3D%3D?line=18'>19</a>\u001b[0m     interpreter \u001b[39m=\u001b[39m Interpreter()\n\u001b[0;32m     <a href='vscode-notebook-cell:/c%3A/Users/iwosz/PythonProjects/CompilationTheory/lab5/lab5.ipynb#X15sZmlsZQ%3D%3D?line=19'>20</a>\u001b[0m     interpreter\u001b[39m.\u001b[39mvisit(ast)\n",
      "File \u001b[1;32mc:\\Users/iwosz/PythonProjects/CompilationTheory\\lab4\\TypeChecker.py:16\u001b[0m, in \u001b[0;36mNodeVisitor.visit\u001b[1;34m(self, node)\u001b[0m\n\u001b[0;32m     14\u001b[0m method \u001b[39m=\u001b[39m \u001b[39m'\u001b[39m\u001b[39mvisit_\u001b[39m\u001b[39m'\u001b[39m \u001b[39m+\u001b[39m node\u001b[39m.\u001b[39m\u001b[39m__class__\u001b[39m\u001b[39m.\u001b[39m\u001b[39m__name__\u001b[39m\n\u001b[0;32m     15\u001b[0m visitor \u001b[39m=\u001b[39m \u001b[39mgetattr\u001b[39m(\u001b[39mself\u001b[39m, method, \u001b[39mself\u001b[39m\u001b[39m.\u001b[39mgeneric_visit)\n\u001b[1;32m---> 16\u001b[0m \u001b[39mreturn\u001b[39;00m visitor(node)\n",
      "File \u001b[1;32mc:\\Users/iwosz/PythonProjects/CompilationTheory\\lab4\\TypeChecker.py:129\u001b[0m, in \u001b[0;36mTypeChecker.visit_InstructionsOrEmpty\u001b[1;34m(self, node)\u001b[0m\n\u001b[0;32m    128\u001b[0m \u001b[39mdef\u001b[39;00m \u001b[39mvisit_InstructionsOrEmpty\u001b[39m(\u001b[39mself\u001b[39m, node: AST\u001b[39m.\u001b[39mInstructionsOrEmpty):\n\u001b[1;32m--> 129\u001b[0m     \u001b[39mself\u001b[39;49m\u001b[39m.\u001b[39;49mvisit(node\u001b[39m.\u001b[39;49minstructions)\n",
      "File \u001b[1;32mc:\\Users/iwosz/PythonProjects/CompilationTheory\\lab4\\TypeChecker.py:16\u001b[0m, in \u001b[0;36mNodeVisitor.visit\u001b[1;34m(self, node)\u001b[0m\n\u001b[0;32m     14\u001b[0m method \u001b[39m=\u001b[39m \u001b[39m'\u001b[39m\u001b[39mvisit_\u001b[39m\u001b[39m'\u001b[39m \u001b[39m+\u001b[39m node\u001b[39m.\u001b[39m\u001b[39m__class__\u001b[39m\u001b[39m.\u001b[39m\u001b[39m__name__\u001b[39m\n\u001b[0;32m     15\u001b[0m visitor \u001b[39m=\u001b[39m \u001b[39mgetattr\u001b[39m(\u001b[39mself\u001b[39m, method, \u001b[39mself\u001b[39m\u001b[39m.\u001b[39mgeneric_visit)\n\u001b[1;32m---> 16\u001b[0m \u001b[39mreturn\u001b[39;00m visitor(node)\n",
      "File \u001b[1;32mc:\\Users/iwosz/PythonProjects/CompilationTheory\\lab4\\TypeChecker.py:134\u001b[0m, in \u001b[0;36mTypeChecker.visit_Instructions\u001b[1;34m(self, node)\u001b[0m\n\u001b[0;32m    132\u001b[0m \u001b[39mdef\u001b[39;00m \u001b[39mvisit_Instructions\u001b[39m(\u001b[39mself\u001b[39m, node: AST\u001b[39m.\u001b[39mInstructions):\n\u001b[0;32m    133\u001b[0m     \u001b[39mfor\u001b[39;00m instruction \u001b[39min\u001b[39;00m node\u001b[39m.\u001b[39minstructions:\n\u001b[1;32m--> 134\u001b[0m         \u001b[39mself\u001b[39;49m\u001b[39m.\u001b[39;49mvisit(instruction)\n",
      "File \u001b[1;32mc:\\Users/iwosz/PythonProjects/CompilationTheory\\lab4\\TypeChecker.py:16\u001b[0m, in \u001b[0;36mNodeVisitor.visit\u001b[1;34m(self, node)\u001b[0m\n\u001b[0;32m     14\u001b[0m method \u001b[39m=\u001b[39m \u001b[39m'\u001b[39m\u001b[39mvisit_\u001b[39m\u001b[39m'\u001b[39m \u001b[39m+\u001b[39m node\u001b[39m.\u001b[39m\u001b[39m__class__\u001b[39m\u001b[39m.\u001b[39m\u001b[39m__name__\u001b[39m\n\u001b[0;32m     15\u001b[0m visitor \u001b[39m=\u001b[39m \u001b[39mgetattr\u001b[39m(\u001b[39mself\u001b[39m, method, \u001b[39mself\u001b[39m\u001b[39m.\u001b[39mgeneric_visit)\n\u001b[1;32m---> 16\u001b[0m \u001b[39mreturn\u001b[39;00m visitor(node)\n",
      "File \u001b[1;32mc:\\Users/iwosz/PythonProjects/CompilationTheory\\lab4\\TypeChecker.py:260\u001b[0m, in \u001b[0;36mTypeChecker.visit_Assignment\u001b[1;34m(self, node)\u001b[0m\n\u001b[0;32m    259\u001b[0m \u001b[39mdef\u001b[39;00m \u001b[39mvisit_Assignment\u001b[39m(\u001b[39mself\u001b[39m, node: AST\u001b[39m.\u001b[39mAssignment):\n\u001b[1;32m--> 260\u001b[0m     val_type \u001b[39m=\u001b[39m \u001b[39mself\u001b[39;49m\u001b[39m.\u001b[39;49mvisit(node\u001b[39m.\u001b[39;49mright)\n\u001b[0;32m    261\u001b[0m     \u001b[39mif\u001b[39;00m val_type \u001b[39mis\u001b[39;00m \u001b[39mNone\u001b[39;00m:\n\u001b[0;32m    262\u001b[0m         \u001b[39mreturn\u001b[39;00m \u001b[39mNone\u001b[39;00m\n",
      "File \u001b[1;32mc:\\Users/iwosz/PythonProjects/CompilationTheory\\lab4\\TypeChecker.py:16\u001b[0m, in \u001b[0;36mNodeVisitor.visit\u001b[1;34m(self, node)\u001b[0m\n\u001b[0;32m     14\u001b[0m method \u001b[39m=\u001b[39m \u001b[39m'\u001b[39m\u001b[39mvisit_\u001b[39m\u001b[39m'\u001b[39m \u001b[39m+\u001b[39m node\u001b[39m.\u001b[39m\u001b[39m__class__\u001b[39m\u001b[39m.\u001b[39m\u001b[39m__name__\u001b[39m\n\u001b[0;32m     15\u001b[0m visitor \u001b[39m=\u001b[39m \u001b[39mgetattr\u001b[39m(\u001b[39mself\u001b[39m, method, \u001b[39mself\u001b[39m\u001b[39m.\u001b[39mgeneric_visit)\n\u001b[1;32m---> 16\u001b[0m \u001b[39mreturn\u001b[39;00m visitor(node)\n",
      "File \u001b[1;32mc:\\Users/iwosz/PythonProjects/CompilationTheory\\lab4\\TypeChecker.py:346\u001b[0m, in \u001b[0;36mTypeChecker.visit_Variable\u001b[1;34m(self, node)\u001b[0m\n\u001b[0;32m    344\u001b[0m     \u001b[39mprint\u001b[39m(\u001b[39mf\u001b[39m\u001b[39m\"\u001b[39m\u001b[39mLine nr:\u001b[39m\u001b[39m{\u001b[39;00mnode\u001b[39m.\u001b[39mlineno\u001b[39m}\u001b[39;00m\u001b[39m - Index out of ouns\u001b[39m\u001b[39m\"\u001b[39m)\n\u001b[0;32m    345\u001b[0m     \u001b[39mreturn\u001b[39;00m \u001b[39mNone\u001b[39;00m\n\u001b[1;32m--> 346\u001b[0m \u001b[39melif\u001b[39;00m node\u001b[39m.\u001b[39;49mindex[i] \u001b[39m>\u001b[39;49m\u001b[39m=\u001b[39;49m dims[i]:\n\u001b[0;32m    347\u001b[0m     \u001b[39mprint\u001b[39m(\u001b[39mf\u001b[39m\u001b[39m\"\u001b[39m\u001b[39mLine nr:\u001b[39m\u001b[39m{\u001b[39;00mnode\u001b[39m.\u001b[39mlineno\u001b[39m}\u001b[39;00m\u001b[39m - Index out of ouns\u001b[39m\u001b[39m\"\u001b[39m)\n\u001b[0;32m    348\u001b[0m     \u001b[39mreturn\u001b[39;00m \u001b[39mNone\u001b[39;00m\n",
      "\u001b[1;31mTypeError\u001b[0m: '>=' not supported between instances of 'BinaryExpression' and 'int'"
     ]
    }
   ],
   "source": [
    "text ='''A = zeros(5); # create 5x5 matrix filled with zeros\n",
    "B = ones(5);  # create 5x5 matrix filled with ones\n",
    "D = A'.+B;   # add element-wise A with transpose of B\n",
    "x = [1,2,3,4,5]; # create vector x\n",
    "a = x[1+1]; # get first element of vector x\n",
    "b = zeros(5,5);\n",
    "for j = 0:4 \n",
    "    print a;\n",
    "print b[1,1];\n",
    "    '''\n",
    "par = ParserMatrixAST()\n",
    "ast = par.parse(Scanner().tokenize(text))\n",
    "treePrinter = TreePrinter()\n",
    "typeChecker = TypeChecker()\n",
    "\n",
    "if ast is not None:\n",
    "    ast.printTree(0)\n",
    "    print(\"Type checking errors: \", typeChecker.visit(ast))\n",
    "    interpreter = Interpreter()\n",
    "    interpreter.visit(ast)"
   ]
  },
  {
   "cell_type": "markdown",
   "metadata": {},
   "source": [
    "Tests from files"
   ]
  },
  {
   "cell_type": "code",
   "execution_count": null,
   "metadata": {},
   "outputs": [
    {
     "name": "stdout",
     "output_type": "stream",
     "text": [
      "[1, 2, 3, 4, 5, 6]\n"
     ]
    }
   ],
   "source": [
    "test_nums = [i for i in range(1,7)]\n",
    "print(test_nums)\n",
    "# test_nums = [5]"
   ]
  },
  {
   "cell_type": "code",
   "execution_count": null,
   "metadata": {},
   "outputs": [],
   "source": [
    "def print_data_with_line_nrs(data):\n",
    "    for i, line in enumerate(data.split('\\n')):\n",
    "        print('{:>3}: {}'.format(i+1, line))"
   ]
  },
  {
   "cell_type": "code",
   "execution_count": null,
   "metadata": {},
   "outputs": [],
   "source": [
    "# for n in test_nums:\n",
    "#     print(f\"Test nr {n}:\")\n",
    "#     filename = f\"tests/test{n}.m\"\n",
    "#     with open(filename, 'r') as f:\n",
    "#         data = f.read()\n",
    "\n",
    "#     print_data_with_line_nrs(data)\n",
    "#     parser = ParserMatrixAST()\n",
    "#     ast = parser.parse(Scanner().tokenize(data))\n",
    "#     print(\"AST tree is: \")\n",
    "#     ast.printTree(0)\n",
    "#     typeChecker = TypeChecker()\n",
    "#     print(f\"Type checking errors: {typeChecker.visit(ast)}\")\n",
    "    \n",
    "#     print(\"Interpreter: \")\n",
    "#     interpreter = Interpreter()\n",
    "#     interpreter.visit(ast)\n",
    "#     print(\"\\n\")"
   ]
  }
 ],
 "metadata": {
  "kernelspec": {
   "display_name": "base",
   "language": "python",
   "name": "python3"
  },
  "language_info": {
   "codemirror_mode": {
    "name": "ipython",
    "version": 3
   },
   "file_extension": ".py",
   "mimetype": "text/x-python",
   "name": "python",
   "nbconvert_exporter": "python",
   "pygments_lexer": "ipython3",
   "version": "3.9.12"
  }
 },
 "nbformat": 4,
 "nbformat_minor": 2
}
