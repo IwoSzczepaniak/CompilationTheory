{
 "cells": [
  {
   "cell_type": "code",
   "execution_count": 9,
   "metadata": {},
   "outputs": [],
   "source": [
    "import sys\n",
    "sys.path.append('c:/Users/iwosz/PythonProjects/CompilationTheory/') "
   ]
  },
  {
   "cell_type": "code",
   "execution_count": 10,
   "metadata": {},
   "outputs": [],
   "source": [
    "from lab3.MyParserAST import ParserMatrixAST\n",
    "from lab1.MyLexer import MyLexer as Scanner\n",
    "from lab3.TreePrinter import TreePrinter\n",
    "from TypeChecker import TypeChecker"
   ]
  },
  {
   "cell_type": "markdown",
   "metadata": {},
   "source": [
    "Basic tests"
   ]
  },
  {
   "cell_type": "code",
   "execution_count": 11,
   "metadata": {},
   "outputs": [
    {
     "name": "stdout",
     "output_type": "stream",
     "text": [
      "[<lab3.AST.IntNum object at 0x000001FBA6528F70>, <lab3.AST.IntNum object at 0x000001FBA6540340>, <lab3.AST.IntNum object at 0x000001FBA65289D0>, <lab3.AST.IntNum object at 0x000001FBA6540850>, <lab3.AST.IntNum object at 0x000001FBA6540280>]\n",
      "<class 'lab3.AST.IntNum'>\n",
      "A\n",
      "|\t=\n",
      "|\t|\tzeros\n",
      "|\t|\t|\t5\n",
      "B\n",
      "|\t=\n",
      "|\t|\tones\n",
      "|\t|\t|\t7\n",
      "D\n",
      "|\t=\n",
      "|\t|\t'\n",
      "|\t|\t|\tA\n",
      "|\t|\t|\t|\t.+\n",
      "|\t|\t|\t|\t|\tB\n",
      "x\n",
      "|\t=\n",
      "|\t|\tVECTOR\n",
      "|\t|\t|\t1\n",
      "|\t|\t|\t2\n",
      "|\t|\t|\t3\n",
      "|\t|\t|\t4\n",
      "|\t|\t|\t5\n",
      "j\n",
      "|\t=\n",
      "|\t|\tREF\n",
      "|\t|\t|\tx\n",
      "|\t|\t|\t0\n",
      "FOR\n",
      "|\tRANGE\n",
      "|\t|\t1\n",
      "|\t|\t10\n",
      "|\tPRINT\n",
      "|\t|\tj\n",
      "RETURN\n",
      "|\tj\n"
     ]
    }
   ],
   "source": [
    "text ='''A = zeros(5); # create 5x5 matrix filled with zeros\n",
    "B = ones(7);  # create 5x5 matrix filled with ones\n",
    "D = A.+B';   # add element-wise A with transpose of B\n",
    "x = [1,2,3,4,5]; # create vector x\n",
    "j=x[0];\n",
    "for j = 1:10 \n",
    "    print j;\n",
    "return j;\n",
    "'''\n",
    "par = ParserMatrixAST()\n",
    "ast = par.parse(Scanner().tokenize(text))\n",
    "treePrinter = TreePrinter()\n",
    "typeChecker = TypeChecker()\n",
    "ast.printTree(0)\n",
    "\n"
   ]
  },
  {
   "cell_type": "code",
   "execution_count": 12,
   "metadata": {},
   "outputs": [
    {
     "name": "stdout",
     "output_type": "stream",
     "text": [
      "Line nr:3 - Nonequal vector dim - 5 7\n"
     ]
    }
   ],
   "source": [
    "typeChecker.visit(ast)"
   ]
  },
  {
   "cell_type": "markdown",
   "metadata": {},
   "source": [
    "Tests from files"
   ]
  },
  {
   "cell_type": "code",
   "execution_count": 15,
   "metadata": {},
   "outputs": [
    {
     "name": "stdout",
     "output_type": "stream",
     "text": [
      "Test nr 2:\n",
      "[<lab3.AST.IntNum object at 0x000001FBA6523040>, <lab3.AST.IntNum object at 0x000001FBA6523FA0>, <lab3.AST.IntNum object at 0x000001FBA65237F0>]\n",
      "<class 'lab3.AST.IntNum'>\n",
      "[<lab3.AST.IntNum object at 0x000001FBA65235B0>, <lab3.AST.IntNum object at 0x000001FBA6523B50>, <lab3.AST.IntNum object at 0x000001FBA6523C40>, <lab3.AST.IntNum object at 0x000001FBA6523850>, <lab3.AST.IntNum object at 0x000001FBA6523B80>]\n",
      "<class 'lab3.AST.IntNum'>\n",
      "[<lab3.AST.IntNum object at 0x000001FBA6523F40>, <lab3.AST.IntNum object at 0x000001FBA65407C0>]\n",
      "<class 'lab3.AST.IntNum'>\n",
      "[[[<lab3.AST.IntNum object at 0x000001FBA6523040>, <lab3.AST.IntNum object at 0x000001FBA6523FA0>, <lab3.AST.IntNum object at 0x000001FBA65237F0>]], [3], int, 3, [[<lab3.AST.IntNum object at 0x000001FBA65235B0>, <lab3.AST.IntNum object at 0x000001FBA6523B50>, <lab3.AST.IntNum object at 0x000001FBA6523C40>, <lab3.AST.IntNum object at 0x000001FBA6523850>, <lab3.AST.IntNum object at 0x000001FBA6523B80>]], [5], int, 4, [[<lab3.AST.IntNum object at 0x000001FBA6523F40>, <lab3.AST.IntNum object at 0x000001FBA65407C0>]], [2], int, 5]\n",
      "<class 'lab3.AST.Vector'>\n",
      "x\n",
      "|\t=\n",
      "|\t|\tVECTOR\n",
      "|\t|\t|\tVECTOR\n",
      "|\t|\t|\t|\t1\n",
      "|\t|\t|\t|\t2\n",
      "|\t|\t|\t|\t3\n",
      "|\t|\t|\tVECTOR\n",
      "|\t|\t|\t|\t1\n",
      "|\t|\t|\t|\t2\n",
      "|\t|\t|\t|\t3\n",
      "|\t|\t|\t|\t4\n",
      "|\t|\t|\t|\t5\n",
      "|\t|\t|\tVECTOR\n",
      "|\t|\t|\t|\t1\n",
      "|\t|\t|\t|\t2\n",
      "Line nr:3 - Wrong vector size\n",
      "\n",
      "\n"
     ]
    }
   ],
   "source": [
    "test_nums = [2]\n",
    "for n in test_nums:\n",
    "    print(f\"Test nr {n}:\")\n",
    "    filename = f\"tests/test{n}.m\"\n",
    "    with open(filename, 'r') as f:\n",
    "        data = f.read()\n",
    "    parser = ParserMatrixAST()\n",
    "    ast = parser.parse(Scanner().tokenize(data))\n",
    "    ast.printTree(0)\n",
    "    typeChecker = TypeChecker()\n",
    "    typeChecker.visit(ast)\n",
    "    print(\"\\n\")"
   ]
  }
 ],
 "metadata": {
  "kernelspec": {
   "display_name": "base",
   "language": "python",
   "name": "python3"
  },
  "language_info": {
   "codemirror_mode": {
    "name": "ipython",
    "version": 3
   },
   "file_extension": ".py",
   "mimetype": "text/x-python",
   "name": "python",
   "nbconvert_exporter": "python",
   "pygments_lexer": "ipython3",
   "version": "3.9.12"
  }
 },
 "nbformat": 4,
 "nbformat_minor": 2
}
