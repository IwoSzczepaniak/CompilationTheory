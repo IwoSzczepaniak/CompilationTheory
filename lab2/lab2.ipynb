{
 "cells": [
  {
   "cell_type": "code",
   "execution_count": 2,
   "metadata": {},
   "outputs": [],
   "source": [
    "from MyParser import ParserMatrix\n",
    "from MyLexer import MyLexer as Scanner\n",
    "\n",
    "\n",
    "for n in [1,2,3]:\n",
    "    filename = f\"tests/example{n}.m\"\n",
    "    with open(filename, 'r') as f:\n",
    "        data = f.read()\n",
    "    parser = ParserMatrix()\n",
    "    parser.parse(Scanner().tokenize(data))"
   ]
  }
 ],
 "metadata": {
  "kernelspec": {
   "display_name": "base",
   "language": "python",
   "name": "python3"
  },
  "language_info": {
   "codemirror_mode": {
    "name": "ipython",
    "version": 3
   },
   "file_extension": ".py",
   "mimetype": "text/x-python",
   "name": "python",
   "nbconvert_exporter": "python",
   "pygments_lexer": "ipython3",
   "version": "3.9.12"
  }
 },
 "nbformat": 4,
 "nbformat_minor": 2
}
