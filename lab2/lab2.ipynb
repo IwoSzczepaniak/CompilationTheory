{
 "cells": [
  {
   "cell_type": "code",
   "execution_count": 5,
   "metadata": {},
   "outputs": [],
   "source": [
    "from MyParser import ParserMatrix\n",
    "from lab1.MyLexer import MyLexer as Scanner"
   ]
  },
  {
   "cell_type": "code",
   "execution_count": 6,
   "metadata": {},
   "outputs": [
    {
     "data": {
      "text/plain": [
       "('program', ('instructions_or_empty', <MyParser.ASTNode at 0x1a228cc9dc0>))"
      ]
     },
     "execution_count": 6,
     "metadata": {},
     "output_type": "execute_result"
    }
   ],
   "source": [
    "text =\"C = A/B;\"\n",
    "\n",
    "par = ParserMatrix()\n",
    "par.parse(Scanner().tokenize(text))"
   ]
  },
  {
   "cell_type": "code",
   "execution_count": 7,
   "metadata": {},
   "outputs": [
    {
     "name": "stdout",
     "output_type": "stream",
     "text": [
      "Syntax error at line 1: LexToken(*, '*')\n"
     ]
    }
   ],
   "source": [
    "text =\"C = A/*B;\"\n",
    "\n",
    "par = ParserMatrix()\n",
    "par.parse(Scanner().tokenize(text))"
   ]
  },
  {
   "cell_type": "code",
   "execution_count": null,
   "metadata": {},
   "outputs": [
    {
     "ename": "AttributeError",
     "evalue": "No symbol instruction0. Must be one of {IF, (, expr, ), instruction}.",
     "output_type": "error",
     "traceback": [
      "\u001b[1;31m---------------------------------------------------------------------------\u001b[0m",
      "\u001b[1;31mAttributeError\u001b[0m                            Traceback (most recent call last)",
      "\u001b[1;32mc:\\Users\\iwosz\\PythonProjects\\CompilationTheory\\lab2\\lab2.ipynb Cell 4\u001b[0m line \u001b[0;36m<cell line: 1>\u001b[1;34m()\u001b[0m\n\u001b[0;32m      <a href='vscode-notebook-cell:/c%3A/Users/iwosz/PythonProjects/CompilationTheory/lab2/lab2.ipynb#W3sZmlsZQ%3D%3D?line=3'>4</a>\u001b[0m     data \u001b[39m=\u001b[39m f\u001b[39m.\u001b[39mread()\n\u001b[0;32m      <a href='vscode-notebook-cell:/c%3A/Users/iwosz/PythonProjects/CompilationTheory/lab2/lab2.ipynb#W3sZmlsZQ%3D%3D?line=4'>5</a>\u001b[0m parser \u001b[39m=\u001b[39m ParserMatrix()\n\u001b[1;32m----> <a href='vscode-notebook-cell:/c%3A/Users/iwosz/PythonProjects/CompilationTheory/lab2/lab2.ipynb#W3sZmlsZQ%3D%3D?line=5'>6</a>\u001b[0m parser\u001b[39m.\u001b[39;49mparse(Scanner()\u001b[39m.\u001b[39;49mtokenize(data))\n",
      "File \u001b[1;32mc:\\Users\\iwosz\\anaconda3\\lib\\site-packages\\sly\\yacc.py:2137\u001b[0m, in \u001b[0;36mParser.parse\u001b[1;34m(self, tokens)\u001b[0m\n\u001b[0;32m   2135\u001b[0m sym \u001b[39m=\u001b[39m YaccSymbol()\n\u001b[0;32m   2136\u001b[0m sym\u001b[39m.\u001b[39mtype \u001b[39m=\u001b[39m pname       \n\u001b[1;32m-> 2137\u001b[0m value \u001b[39m=\u001b[39m p\u001b[39m.\u001b[39;49mfunc(\u001b[39mself\u001b[39;49m, pslice)\n\u001b[0;32m   2138\u001b[0m \u001b[39mif\u001b[39;00m value \u001b[39mis\u001b[39;00m pslice:\n\u001b[0;32m   2139\u001b[0m     value \u001b[39m=\u001b[39m (pname, \u001b[39m*\u001b[39m(s\u001b[39m.\u001b[39mvalue \u001b[39mfor\u001b[39;00m s \u001b[39min\u001b[39;00m pslice\u001b[39m.\u001b[39m_slice))\n",
      "File \u001b[1;32mc:\\Users\\iwosz\\PythonProjects\\CompilationTheory\\lab2\\MyParser.py:70\u001b[0m, in \u001b[0;36mParserMatrix.if_i\u001b[1;34m(self, p)\u001b[0m\n\u001b[0;32m     68\u001b[0m     \u001b[39mreturn\u001b[39;00m \u001b[39mself\u001b[39m\u001b[39m.\u001b[39mbuild_ast(\u001b[39m'\u001b[39m\u001b[39mif\u001b[39m\u001b[39m'\u001b[39m, p\u001b[39m.\u001b[39mexpr, p\u001b[39m.\u001b[39minstruction)\n\u001b[0;32m     69\u001b[0m \u001b[39melse\u001b[39;00m:\n\u001b[1;32m---> 70\u001b[0m     \u001b[39mreturn\u001b[39;00m \u001b[39mself\u001b[39m\u001b[39m.\u001b[39mbuild_ast(\u001b[39m'\u001b[39m\u001b[39mif-else\u001b[39m\u001b[39m'\u001b[39m, p\u001b[39m.\u001b[39mexpr, p\u001b[39m.\u001b[39;49minstruction0, p\u001b[39m.\u001b[39minstruction1)\n",
      "File \u001b[1;32mc:\\Users\\iwosz\\anaconda3\\lib\\site-packages\\sly\\yacc.py:156\u001b[0m, in \u001b[0;36mYaccProduction.__getattr__\u001b[1;34m(self, name)\u001b[0m\n\u001b[0;32m    154\u001b[0m \u001b[39melse\u001b[39;00m:\n\u001b[0;32m    155\u001b[0m     nameset \u001b[39m=\u001b[39m \u001b[39m'\u001b[39m\u001b[39m{\u001b[39m\u001b[39m'\u001b[39m \u001b[39m+\u001b[39m \u001b[39m'\u001b[39m\u001b[39m, \u001b[39m\u001b[39m'\u001b[39m\u001b[39m.\u001b[39mjoin(\u001b[39mself\u001b[39m\u001b[39m.\u001b[39m_namemap) \u001b[39m+\u001b[39m \u001b[39m'\u001b[39m\u001b[39m}\u001b[39m\u001b[39m'\u001b[39m\n\u001b[1;32m--> 156\u001b[0m     \u001b[39mraise\u001b[39;00m \u001b[39mAttributeError\u001b[39;00m(\u001b[39mf\u001b[39m\u001b[39m'\u001b[39m\u001b[39mNo symbol \u001b[39m\u001b[39m{\u001b[39;00mname\u001b[39m}\u001b[39;00m\u001b[39m. Must be one of \u001b[39m\u001b[39m{\u001b[39;00mnameset\u001b[39m}\u001b[39;00m\u001b[39m.\u001b[39m\u001b[39m'\u001b[39m)\n",
      "\u001b[1;31mAttributeError\u001b[0m: No symbol instruction0. Must be one of {IF, (, expr, ), instruction}."
     ]
    }
   ],
   "source": [
    "for n in [1,2,3]:\n",
    "    filename = f\"tests/example{n}.m\"\n",
    "    with open(filename, 'r') as f:\n",
    "        data = f.read()\n",
    "    parser = ParserMatrix()\n",
    "    parser.parse(Scanner().tokenize(data))"
   ]
  }
 ],
 "metadata": {
  "kernelspec": {
   "display_name": "base",
   "language": "python",
   "name": "python3"
  },
  "language_info": {
   "codemirror_mode": {
    "name": "ipython",
    "version": 3
   },
   "file_extension": ".py",
   "mimetype": "text/x-python",
   "name": "python",
   "nbconvert_exporter": "python",
   "pygments_lexer": "ipython3",
   "version": "3.9.12"
  }
 },
 "nbformat": 4,
 "nbformat_minor": 2
}
