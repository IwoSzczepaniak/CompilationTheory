{
 "cells": [
  {
   "cell_type": "code",
   "execution_count": 6,
   "metadata": {},
   "outputs": [],
   "source": [
    "from MyParser import ParserMatrix\n",
    "from lab1.MyLexer import MyLexer as Scanner"
   ]
  },
  {
   "cell_type": "code",
   "execution_count": 7,
   "metadata": {},
   "outputs": [
    {
     "data": {
      "text/plain": [
       "('program',\n",
       " ('instructions_or_empty',\n",
       "  ('instructions',\n",
       "   ('instruction',\n",
       "    ('assign',\n",
       "     ('var', 'C'),\n",
       "     '=',\n",
       "     ('expr', ('expr', ('var', 'A')), '/', ('expr', ('var', 'B')))),\n",
       "    ';'))))"
      ]
     },
     "execution_count": 7,
     "metadata": {},
     "output_type": "execute_result"
    }
   ],
   "source": [
    "text =\"C = A/B;\"\n",
    "\n",
    "par = ParserMatrix()\n",
    "par.parse(Scanner().tokenize(text))"
   ]
  },
  {
   "cell_type": "code",
   "execution_count": 8,
   "metadata": {},
   "outputs": [
    {
     "name": "stdout",
     "output_type": "stream",
     "text": [
      "Syntax error at line 1: LexToken(*, '*')\n"
     ]
    },
    {
     "data": {
      "text/plain": [
       "('program', ('instructions_or_empty',))"
      ]
     },
     "execution_count": 8,
     "metadata": {},
     "output_type": "execute_result"
    }
   ],
   "source": [
    "text =\"C = A/*B;\"\n",
    "\n",
    "par = ParserMatrix()\n",
    "par.parse(Scanner().tokenize(text))"
   ]
  },
  {
   "cell_type": "code",
   "execution_count": 9,
   "metadata": {},
   "outputs": [],
   "source": [
    "for n in [1,2,3]:\n",
    "    filename = f\"tests/example{n}.m\"\n",
    "    with open(filename, 'r') as f:\n",
    "        data = f.read()\n",
    "    parser = ParserMatrix()\n",
    "    parser.parse(Scanner().tokenize(data))"
   ]
  }
 ],
 "metadata": {
  "kernelspec": {
   "display_name": "base",
   "language": "python",
   "name": "python3"
  },
  "language_info": {
   "codemirror_mode": {
    "name": "ipython",
    "version": 3
   },
   "file_extension": ".py",
   "mimetype": "text/x-python",
   "name": "python",
   "nbconvert_exporter": "python",
   "pygments_lexer": "ipython3",
   "version": "3.9.12"
  }
 },
 "nbformat": 4,
 "nbformat_minor": 2
}
